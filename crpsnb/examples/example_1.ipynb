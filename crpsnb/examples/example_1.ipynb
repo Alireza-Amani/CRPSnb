{
 "cells": [
  {
   "cell_type": "code",
   "execution_count": 1,
   "metadata": {},
   "outputs": [
    {
     "name": "stdout",
     "output_type": "stream",
     "text": [
      "CRPS: 0.31897777777777775\n",
      "CRPS non vectorized: 0.3189777777777778\n"
     ]
    }
   ],
   "source": [
    "import numpy as np\n",
    "from crpsnb.crps import crps_neighboor, crps_neighborhood_chunk, crps_neighborhood_chunk_nonvectorized\n",
    "\n",
    "RSEED = 1915 # random seed for reproducibility of sample generation\n",
    "\n",
    "ENS_SIZE = 5 # number of ensemble members for each time step\n",
    "OBS_SIZE = 3 # number of observations for each time step\n",
    "N_TSTEPS = 10 # number of time steps\n",
    "\n",
    "drng = np.random.default_rng(RSEED)\n",
    "\n",
    "ensemble = drng.normal(size=(N_TSTEPS, ENS_SIZE)).round(1)\n",
    "yobs = drng.normal(size=(N_TSTEPS, OBS_SIZE)).round(1)\n",
    "\n",
    "crps_nb = crps_neighboor(ensemble, yobs, chunk_size=2, njobs=2)\n",
    "\n",
    "print(\n",
    "    f\"CRPS: {crps_nb}\"\n",
    ")\n",
    "\n",
    "crps_novec = crps_neighborhood_chunk_nonvectorized(ensemble, yobs).mean()\n",
    "\n",
    "print(\n",
    "    f\"CRPS non vectorized: {crps_novec}\"\n",
    ")\n",
    "\n",
    "# check if close\n",
    "assert np.isclose(crps_nb, crps_novec), \"CRPS values are not close\""
   ]
  },
  {
   "cell_type": "code",
   "execution_count": null,
   "metadata": {},
   "outputs": [],
   "source": []
  },
  {
   "cell_type": "code",
   "execution_count": 42,
   "metadata": {},
   "outputs": [
    {
     "name": "stdout",
     "output_type": "stream",
     "text": [
      "CRPS chunk: [0.22222222 0.44444444]\n"
     ]
    }
   ],
   "source": [
    "yobs_chunk = np.array([\n",
    "    [1, np.nan, 3],\n",
    "    [4, 5, np.nan],\n",
    "    [np.nan, np.nan, np.nan],\n",
    "])\n",
    "ens_chunk = np.array([\n",
    "    [3, 3, 2],\n",
    "    [7, 6, 5],\n",
    "    [4, 4, 4],\n",
    "])  # Adjusted for NaN removal\n",
    "\n",
    "# # find the rows with all NaNs\n",
    "# nanrows = np.isnan(yobs).all(axis=1)\n",
    "\n",
    "# # remove the rows with all NaNs\n",
    "# yobs = yobs[~nanrows]\n",
    "# ens = ens[~nanrows]\n",
    "\n",
    "nnrows = np.isnan(yobs_chunk).all(axis=1)\n",
    "yobs_chunk = yobs_chunk[~nnrows]\n",
    "ens_chunk = ens_chunk[~nnrows]\n",
    "\n",
    "crps_nb_chunk = crps_neighborhood_chunk(ens_chunk, yobs_chunk)\n",
    "print(\n",
    "    f\"CRPS chunk: {crps_nb_chunk}\"\n",
    ")"
   ]
  },
  {
   "cell_type": "code",
   "execution_count": 43,
   "metadata": {},
   "outputs": [
    {
     "name": "stdout",
     "output_type": "stream",
     "text": [
      "CRPS chunk: [0.22222222 0.44444444]\n"
     ]
    }
   ],
   "source": [
    "yobs_chunk = np.array([\n",
    "    [1, np.nan, 3],\n",
    "    [4, 5, np.nan],\n",
    "])\n",
    "ens_chunk = np.array([\n",
    "    [3, 3, 2],\n",
    "    [7, 6, 5],\n",
    "])  # Adjusted for NaN removal\n",
    "\n",
    "crps_nb_chunk = crps_neighborhood_chunk(ens_chunk, yobs_chunk)\n",
    "print(\n",
    "    f\"CRPS chunk: {crps_nb_chunk}\"\n",
    ")"
   ]
  }
 ],
 "metadata": {
  "kernelspec": {
   "display_name": "crpsnb",
   "language": "python",
   "name": "python3"
  },
  "language_info": {
   "codemirror_mode": {
    "name": "ipython",
    "version": 3
   },
   "file_extension": ".py",
   "mimetype": "text/x-python",
   "name": "python",
   "nbconvert_exporter": "python",
   "pygments_lexer": "ipython3",
   "version": "3.12.2"
  }
 },
 "nbformat": 4,
 "nbformat_minor": 2
}
